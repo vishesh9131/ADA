{
 "cells": [
  {
   "cell_type": "code",
   "execution_count": 2,
   "metadata": {},
   "outputs": [],
   "source": [
    "import sys\n",
    "import os "
   ]
  },
  {
   "cell_type": "code",
   "execution_count": 3,
   "metadata": {},
   "outputs": [
    {
     "name": "stdout",
     "output_type": "stream",
     "text": [
      "1.ipynb    11.py      11A.py     \u001b[34mQuickSort\u001b[m\u001b[m/ \u001b[34mcorerec\u001b[m\u001b[m/\n"
     ]
    }
   ],
   "source": [
    "ls"
   ]
  },
  {
   "cell_type": "code",
   "execution_count": 9,
   "metadata": {},
   "outputs": [
    {
     "name": "stdout",
     "output_type": "stream",
     "text": [
      "from itertools import permutations\n",
      "import networkx as nx\n",
      "import matplotlib.pyplot as plt\n",
      "import matplotlib.animation as animation\n",
      "\n",
      "\n",
      "def tsp(graph, start):\n",
      "    n = len(graph)\n",
      "    all_visited = (1 << n) - 1\n",
      "    memo = {}\n",
      "    path_memo = {}\n",
      "\n",
      "    def visit(city, visited):\n",
      "        if visited == all_visited:\n",
      "            return graph[city][start], [start]\n",
      "        if (city, visited) in memo:\n",
      "            return memo[(city, visited)], path_memo[(city, visited)]\n",
      "\n",
      "        min_cost = float('inf')\n",
      "        min_path = []\n",
      "        for next_city in range(n):\n",
      "            if visited & (1 << next_city) == 0:\n",
      "                cost, path = visit(next_city, visited | (1 << next_city))\n",
      "                cost += graph[city][next_city]\n",
      "                if cost < min_cost:\n",
      "                    min_cost = cost\n",
      "                    min_path = [next_city] + path\n",
      "\n",
      "        memo[(city, visited)] = min_cost\n",
      "        path_memo[(city, visited)] = min_path\n",
      "        return min_cost, min_path\n",
      "\n",
      "    min_cost, path = visit(start, 1 << start)\n",
      "    path = [start] + path\n",
      "    return min_cost, path\n",
      "\n",
      "# Example usage\n",
      "graph = [\n",
      "    [0, 10, 15, 20],\n",
      "    [5, 0, 9 , 10],\n",
      "    [6, 13, 0, 12],\n",
      "    [8, 8, 9,   0]\n",
      "]\n",
      "\n",
      "start_city = 0\n",
      "min_cost, path = tsp(graph, start_city)\n",
      "print(f\"Minimum path cost: {min_cost}\")\n",
      "print(f\"Path: {path}\")"
     ]
    }
   ],
   "source": [
    "cat 11.py"
   ]
  },
  {
   "cell_type": "code",
   "execution_count": null,
   "metadata": {},
   "outputs": [],
   "source": []
  }
 ],
 "metadata": {
  "kernelspec": {
   "display_name": "cuda-gpt",
   "language": "python",
   "name": "cuda"
  },
  "language_info": {
   "codemirror_mode": {
    "name": "ipython",
    "version": 3
   },
   "file_extension": ".py",
   "mimetype": "text/x-python",
   "name": "python",
   "nbconvert_exporter": "python",
   "pygments_lexer": "ipython3",
   "version": "3.11.7"
  }
 },
 "nbformat": 4,
 "nbformat_minor": 2
}
